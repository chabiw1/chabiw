{
 "cells": [
  {
   "cell_type": "markdown",
   "id": "a42e99b0",
   "metadata": {},
   "source": [
    "# Data Science Tools and Ecosystem"
   ]
  },
  {
   "cell_type": "markdown",
   "id": "b969c2fe",
   "metadata": {},
   "source": [
    "In this notebook, Data Science Tools and Ecosystem are summarized."
   ]
  },
  {
   "cell_type": "markdown",
   "id": "5b22cabe",
   "metadata": {},
   "source": [
    "Some of the popular languages that Data Scientists use are\n",
    "1. Python\n",
    "2. R\n",
    "3. JAVA"
   ]
  },
  {
   "cell_type": "markdown",
   "id": "304e85bc",
   "metadata": {},
   "source": [
    "**Objectives :**\n",
    "- List popular languages for Data Science\n",
    "- How Calculate with Python\n",
    "- How to create Markdown cell on Jupeter Notebook\n",
    "- How to create a table with Python"
   ]
  },
  {
   "cell_type": "markdown",
   "id": "f233eb78",
   "metadata": {},
   "source": [
    "Some of the commonly used libraries used by Data Scientists include \n",
    "1. Numpy\n",
    "2. Scipy\n",
    "3. Scikitlearn"
   ]
  },
  {
   "cell_type": "markdown",
   "id": "16bb5748",
   "metadata": {},
   "source": [
    "|Data Science Tools|\n",
    "|--------------------|\n",
    "|Jupyter Notebook|\n",
    "|R studio|\n",
    "|Visual Studio|\n",
    "\n"
   ]
  },
  {
   "cell_type": "markdown",
   "id": "21f4ff98",
   "metadata": {},
   "source": [
    "### Below are a few examples of evaluating arithmetic expressions in Python."
   ]
  },
  {
   "cell_type": "code",
   "execution_count": 11,
   "id": "5b5d1859",
   "metadata": {},
   "outputs": [
    {
     "data": {
      "text/plain": [
       "17"
      ]
     },
     "execution_count": 11,
     "metadata": {},
     "output_type": "execute_result"
    }
   ],
   "source": [
    "(3*4)+5\n",
    "# This a simple arithmetic expression to mutiply then add integers."
   ]
  },
  {
   "cell_type": "code",
   "execution_count": 23,
   "id": "85acd4a0",
   "metadata": {},
   "outputs": [
    {
     "name": "stdout",
     "output_type": "stream",
     "text": [
      "200 minutes =  3.3333333333333335 hours\n"
     ]
    }
   ],
   "source": [
    "a = 200\n",
    "hour_time = a/60\n",
    "print('200 minutes = ',hour_time,'hours')\n",
    "\n",
    "# This a simple arithmetic expression to mutiply then add integers."
   ]
  },
  {
   "cell_type": "markdown",
   "id": "26fb79b1",
   "metadata": {},
   "source": [
    "## Author\n",
    "**CHAKRIT PHONGWITHAYALERT**"
   ]
  },
  {
   "cell_type": "code",
   "execution_count": null,
   "id": "8e4c4910",
   "metadata": {},
   "outputs": [],
   "source": []
  }
 ],
 "metadata": {
  "kernelspec": {
   "display_name": "Python 3 (ipykernel)",
   "language": "python",
   "name": "python3"
  },
  "language_info": {
   "codemirror_mode": {
    "name": "ipython",
    "version": 3
   },
   "file_extension": ".py",
   "mimetype": "text/x-python",
   "name": "python",
   "nbconvert_exporter": "python",
   "pygments_lexer": "ipython3",
   "version": "3.11.5"
  }
 },
 "nbformat": 4,
 "nbformat_minor": 5
}
